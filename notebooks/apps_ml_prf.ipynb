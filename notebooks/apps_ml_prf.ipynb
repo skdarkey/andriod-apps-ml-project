{
 "cells": [
  {
   "cell_type": "markdown",
   "metadata": {},
   "source": [
    "## This Project is to develop a model suitable for predicting the approximate number of installs/downloads of the app.\n",
    "Features used include:\n",
    "* Category of App\n",
    "* Size of App\n",
    "* Type of App\n",
    "* Price of App\n",
    "* Catent_rating of the App\n",
    "\n",
    "By: `Selorm Komla Darkey`"
   ]
  },
  {
   "cell_type": "code",
   "execution_count": 70,
   "metadata": {},
   "outputs": [],
   "source": [
    "import pandas as pd\n",
    "import pickle \n",
    "import mlflow\n",
    "from sklearn.feature_extraction import DictVectorizer\n",
    "from sklearn.linear_model import LinearRegression\n",
    "from sklearn.metrics import mean_squared_error\n",
    "\n",
    "from sklearn.pipeline import make_pipeline\n",
    "from sklearn.model_selection import train_test_split"
   ]
  },
  {
   "cell_type": "code",
   "execution_count": 71,
   "metadata": {},
   "outputs": [
    {
     "data": {
      "text/plain": [
       "<Experiment: artifact_location='file:///d:/STUDY_RESOURCES_BASE/MLOps/MLOps_Zoomcamp/FROM_CODESPACE/andriod_app_project/mlruns/1', creation_time=1719179488244, experiment_id='1', last_update_time=1719179488244, lifecycle_stage='active', name='andriod-apps-ml-exp', tags={}>"
      ]
     },
     "execution_count": 71,
     "metadata": {},
     "output_type": "execute_result"
    }
   ],
   "source": [
    "# mlflow details\n",
    "# set the tracking uri (location to store the tracking data)\n",
    "mlflow.set_tracking_uri(\"sqlite:///apps_backend.db\")\n",
    "\n",
    "# create / name the experiment \n",
    "mlflow.set_experiment(\"andriod-apps-ml-exp\")\n"
   ]
  },
  {
   "cell_type": "code",
   "execution_count": 72,
   "metadata": {},
   "outputs": [],
   "source": [
    "data = r\"D:\\STUDY_RESOURCES_BASE\\MLOps\\MLOps_Zoomcamp\\FROM_CODESPACE\\andriod_app_project\\Google_Play_Store_Apps_Analytics.csv\"\n",
    "\n",
    "df_apps = pd.read_csv(data)"
   ]
  },
  {
   "cell_type": "code",
   "execution_count": 73,
   "metadata": {},
   "outputs": [
    {
     "name": "stdout",
     "output_type": "stream",
     "text": [
      "                                            App         Category  Rating  \\\n",
      "0                       Ak Parti Yardım Toplama           SOCIAL     NaN   \n",
      "1                    Ain Arabic Kids Alif Ba ta           FAMILY     NaN   \n",
      "2  Popsicle Launcher for Android P 9.0 launcher  PERSONALIZATION     NaN   \n",
      "3                     Command & Conquer: Rivals           FAMILY     NaN   \n",
      "4                                    CX Network         BUSINESS     NaN   \n",
      "\n",
      "   Reviews  Size_MBs Installs  Type   Price Content_Rating           Genres  \\\n",
      "0        0       8.7        0  Paid  $13.99           Teen           Social   \n",
      "1        0      33.0        0  Paid   $2.99       Everyone        Education   \n",
      "2        0       5.5        0  Paid   $1.49       Everyone  Personalization   \n",
      "3        0      19.0        0   NaN       0   Everyone 10+         Strategy   \n",
      "4        0      10.0        0  Free       0       Everyone         Business   \n",
      "\n",
      "     Last_Updated         Android_Ver  \n",
      "0   July 28, 2017          4.1 and up  \n",
      "1  April 15, 2016          3.0 and up  \n",
      "2   July 11, 2018          4.2 and up  \n",
      "3   June 28, 2018  Varies with device  \n",
      "4  August 6, 2018          4.1 and up  \n"
     ]
    }
   ],
   "source": [
    "# droping columns with NaN Values in the data set.\n",
    "df_clean = df_apps.drop_duplicates(subset=['App', 'Type', 'Price'])\n",
    "\n",
    "print(df_clean.head())\n"
   ]
  },
  {
   "cell_type": "code",
   "execution_count": 74,
   "metadata": {},
   "outputs": [
    {
     "name": "stdout",
     "output_type": "stream",
     "text": [
      "9662\n"
     ]
    }
   ],
   "source": [
    "print(len(df_clean))"
   ]
  },
  {
   "cell_type": "code",
   "execution_count": 75,
   "metadata": {},
   "outputs": [
    {
     "name": "stdout",
     "output_type": "stream",
     "text": [
      "8196\n"
     ]
    }
   ],
   "source": [
    "df_clean = df_clean.dropna()\n",
    "\n",
    "print(len(df_clean))"
   ]
  },
  {
   "cell_type": "code",
   "execution_count": 76,
   "metadata": {},
   "outputs": [
    {
     "data": {
      "text/plain": [
       "Index(['App', 'Category', 'Rating', 'Reviews', 'Size_MBs', 'Installs', 'Type',\n",
       "       'Price', 'Content_Rating', 'Genres', 'Last_Updated', 'Android_Ver'],\n",
       "      dtype='object')"
      ]
     },
     "execution_count": 76,
     "metadata": {},
     "output_type": "execute_result"
    }
   ],
   "source": [
    "df_clean.columns"
   ]
  },
  {
   "cell_type": "code",
   "execution_count": 77,
   "metadata": {},
   "outputs": [],
   "source": [
    "# create train and test data\n",
    "X = df_clean.drop(labels=['App', 'Installs', 'Genres', 'Rating', 'Reviews', 'Last_Updated', 'Android_Ver'], axis=1)\n",
    "y = df_clean['Installs']\n"
   ]
  },
  {
   "cell_type": "code",
   "execution_count": 78,
   "metadata": {},
   "outputs": [
    {
     "data": {
      "text/html": [
       "<div>\n",
       "<style scoped>\n",
       "    .dataframe tbody tr th:only-of-type {\n",
       "        vertical-align: middle;\n",
       "    }\n",
       "\n",
       "    .dataframe tbody tr th {\n",
       "        vertical-align: top;\n",
       "    }\n",
       "\n",
       "    .dataframe thead th {\n",
       "        text-align: right;\n",
       "    }\n",
       "</style>\n",
       "<table border=\"1\" class=\"dataframe\">\n",
       "  <thead>\n",
       "    <tr style=\"text-align: right;\">\n",
       "      <th></th>\n",
       "      <th>Category</th>\n",
       "      <th>Size_MBs</th>\n",
       "      <th>Type</th>\n",
       "      <th>Price</th>\n",
       "      <th>Content_Rating</th>\n",
       "    </tr>\n",
       "  </thead>\n",
       "  <tbody>\n",
       "    <tr>\n",
       "      <th>21</th>\n",
       "      <td>MEDICAL</td>\n",
       "      <td>25.0</td>\n",
       "      <td>Free</td>\n",
       "      <td>0</td>\n",
       "      <td>Everyone</td>\n",
       "    </tr>\n",
       "    <tr>\n",
       "      <th>28</th>\n",
       "      <td>GAME</td>\n",
       "      <td>20.0</td>\n",
       "      <td>Paid</td>\n",
       "      <td>$1.49</td>\n",
       "      <td>Everyone</td>\n",
       "    </tr>\n",
       "    <tr>\n",
       "      <th>47</th>\n",
       "      <td>GAME</td>\n",
       "      <td>16.0</td>\n",
       "      <td>Paid</td>\n",
       "      <td>$0.99</td>\n",
       "      <td>Everyone</td>\n",
       "    </tr>\n",
       "    <tr>\n",
       "      <th>82</th>\n",
       "      <td>GAME</td>\n",
       "      <td>19.0</td>\n",
       "      <td>Free</td>\n",
       "      <td>0</td>\n",
       "      <td>Everyone</td>\n",
       "    </tr>\n",
       "    <tr>\n",
       "      <th>99</th>\n",
       "      <td>MEDICAL</td>\n",
       "      <td>4.6</td>\n",
       "      <td>Free</td>\n",
       "      <td>0</td>\n",
       "      <td>Everyone</td>\n",
       "    </tr>\n",
       "  </tbody>\n",
       "</table>\n",
       "</div>"
      ],
      "text/plain": [
       "   Category  Size_MBs  Type  Price Content_Rating\n",
       "21  MEDICAL      25.0  Free      0       Everyone\n",
       "28     GAME      20.0  Paid  $1.49       Everyone\n",
       "47     GAME      16.0  Paid  $0.99       Everyone\n",
       "82     GAME      19.0  Free      0       Everyone\n",
       "99  MEDICAL       4.6  Free      0       Everyone"
      ]
     },
     "execution_count": 78,
     "metadata": {},
     "output_type": "execute_result"
    }
   ],
   "source": [
    "X.head()"
   ]
  },
  {
   "cell_type": "code",
   "execution_count": 79,
   "metadata": {},
   "outputs": [
    {
     "data": {
      "text/plain": [
       "21    1\n",
       "28    1\n",
       "47    1\n",
       "82    5\n",
       "99    5\n",
       "Name: Installs, dtype: object"
      ]
     },
     "execution_count": 79,
     "metadata": {},
     "output_type": "execute_result"
    }
   ],
   "source": [
    "y.head()"
   ]
  },
  {
   "cell_type": "code",
   "execution_count": 80,
   "metadata": {},
   "outputs": [],
   "source": [
    "# create train and test data\n",
    "X_train, X_test, y_train, y_test = train_test_split(X, y, train_size=0.7, random_state=42 )\n"
   ]
  },
  {
   "cell_type": "code",
   "execution_count": 81,
   "metadata": {},
   "outputs": [
    {
     "data": {
      "text/html": [
       "<div>\n",
       "<style scoped>\n",
       "    .dataframe tbody tr th:only-of-type {\n",
       "        vertical-align: middle;\n",
       "    }\n",
       "\n",
       "    .dataframe tbody tr th {\n",
       "        vertical-align: top;\n",
       "    }\n",
       "\n",
       "    .dataframe thead th {\n",
       "        text-align: right;\n",
       "    }\n",
       "</style>\n",
       "<table border=\"1\" class=\"dataframe\">\n",
       "  <thead>\n",
       "    <tr style=\"text-align: right;\">\n",
       "      <th></th>\n",
       "      <th>Category</th>\n",
       "      <th>Size_MBs</th>\n",
       "      <th>Type</th>\n",
       "      <th>Price</th>\n",
       "      <th>Content_Rating</th>\n",
       "    </tr>\n",
       "  </thead>\n",
       "  <tbody>\n",
       "    <tr>\n",
       "      <th>2680</th>\n",
       "      <td>FAMILY</td>\n",
       "      <td>69.0</td>\n",
       "      <td>Free</td>\n",
       "      <td>0</td>\n",
       "      <td>Everyone</td>\n",
       "    </tr>\n",
       "    <tr>\n",
       "      <th>9524</th>\n",
       "      <td>FAMILY</td>\n",
       "      <td>5.7</td>\n",
       "      <td>Free</td>\n",
       "      <td>0</td>\n",
       "      <td>Everyone</td>\n",
       "    </tr>\n",
       "    <tr>\n",
       "      <th>3752</th>\n",
       "      <td>PARENTING</td>\n",
       "      <td>18.0</td>\n",
       "      <td>Free</td>\n",
       "      <td>0</td>\n",
       "      <td>Everyone</td>\n",
       "    </tr>\n",
       "    <tr>\n",
       "      <th>9887</th>\n",
       "      <td>FINANCE</td>\n",
       "      <td>53.0</td>\n",
       "      <td>Free</td>\n",
       "      <td>0</td>\n",
       "      <td>Everyone</td>\n",
       "    </tr>\n",
       "    <tr>\n",
       "      <th>6762</th>\n",
       "      <td>FINANCE</td>\n",
       "      <td>6.1</td>\n",
       "      <td>Free</td>\n",
       "      <td>0</td>\n",
       "      <td>Everyone</td>\n",
       "    </tr>\n",
       "  </tbody>\n",
       "</table>\n",
       "</div>"
      ],
      "text/plain": [
       "       Category  Size_MBs  Type Price Content_Rating\n",
       "2680     FAMILY      69.0  Free     0       Everyone\n",
       "9524     FAMILY       5.7  Free     0       Everyone\n",
       "3752  PARENTING      18.0  Free     0       Everyone\n",
       "9887    FINANCE      53.0  Free     0       Everyone\n",
       "6762    FINANCE       6.1  Free     0       Everyone"
      ]
     },
     "execution_count": 81,
     "metadata": {},
     "output_type": "execute_result"
    }
   ],
   "source": [
    "X_train.head()"
   ]
  },
  {
   "cell_type": "code",
   "execution_count": 82,
   "metadata": {},
   "outputs": [
    {
     "data": {
      "text/plain": [
       "2680        1000\n",
       "9524    10000000\n",
       "3752       10000\n",
       "9887    10000000\n",
       "6762     1000000\n",
       "          ...   \n",
       "5333      100000\n",
       "6873     1000000\n",
       "7099     1000000\n",
       "2087        1000\n",
       "9395    10000000\n",
       "Name: Installs, Length: 5737, dtype: int64"
      ]
     },
     "execution_count": 82,
     "metadata": {},
     "output_type": "execute_result"
    }
   ],
   "source": [
    "y_train = y_train.astype(str).str.replace(',','')\n",
    "y_train = pd.to_numeric(y_train)\n",
    "y_train"
   ]
  },
  {
   "cell_type": "code",
   "execution_count": 83,
   "metadata": {},
   "outputs": [],
   "source": [
    "# fields to encode \n",
    "categorical = ['Category', 'Type', 'Content_Rating']\n",
    "numerical = ['Size_MBs', 'Price']"
   ]
  },
  {
   "cell_type": "code",
   "execution_count": 84,
   "metadata": {},
   "outputs": [],
   "source": [
    "X_train[categorical] = X_train[categorical].astype(str)"
   ]
  },
  {
   "cell_type": "code",
   "execution_count": 85,
   "metadata": {},
   "outputs": [],
   "source": [
    "# pipeline with 2 steps to avoid saving dv separate\n",
    "pipeline = make_pipeline(\n",
    "    DictVectorizer(),\n",
    "    LinearRegression()\n",
    ")\n"
   ]
  },
  {
   "cell_type": "code",
   "execution_count": 86,
   "metadata": {},
   "outputs": [
    {
     "name": "stderr",
     "output_type": "stream",
     "text": [
      "c:\\Users\\skdar\\anaconda3\\envs\\mlops_zc\\lib\\site-packages\\sklearn\\metrics\\_regression.py:492: FutureWarning: 'squared' is deprecated in version 1.4 and will be removed in 1.6. To calculate the root mean squared error, use the function'root_mean_squared_error'.\n",
      "  warnings.warn(\n"
     ]
    }
   ],
   "source": [
    "# start tracking the model in a new run\n",
    "with mlflow.start_run():\n",
    "    # add info to log\n",
    "    mlflow.set_tag(\"developer\", \"selorm\")\n",
    "\n",
    "    # tracking dataset (basic approach)\n",
    "    mlflow.log_param(\"train_data-path\", \".Google_Play_Store_Apps_Analytics.csv\")\n",
    "    \n",
    "    # training \n",
    "    train_dicts = X_train[categorical + numerical].to_dict(orient='records')\n",
    "\n",
    "    y_train_ = y_train.values\n",
    "\n",
    "    X_train = pipeline.fit(train_dicts, y_train_)  # use this instead of model.fit\n",
    "\n",
    "    y_pred = pipeline.predict(train_dicts)\n",
    "\n",
    "    rmse = mean_squared_error(y_train_, y_pred, squared=False) \n",
    "    mlflow.log_metric(\"rmse\", rmse)    # logging the metrics\n",
    "\n",
    "    with open('./models/numinstalls_lin_reg2.bin', 'wb') as f_out:\n",
    "        pickle.dump(pipeline, f_out)\n",
    "\n",
    "    # saving the model as an artifact\n",
    "    mlflow.log_artifact(local_path=\"./models/numinstalls_lin_reg2.bin\", \n",
    "                        artifact_path=\"models_linreg\") # location of the model, and where the artefact would be stored\n",
    "    \n",
    "    # return {'loss': rmse, 'status': STATUS_OK}\n"
   ]
  },
  {
   "cell_type": "markdown",
   "metadata": {},
   "source": [
    "## Adding a RandomForest Model to compare."
   ]
  },
  {
   "cell_type": "code",
   "execution_count": 98,
   "metadata": {},
   "outputs": [
    {
     "data": {
      "text/plain": [
       "<Experiment: artifact_location='file:///d:/STUDY_RESOURCES_BASE/MLOps/MLOps_Zoomcamp/FROM_CODESPACE/andriod_app_project/mlruns/2', creation_time=1719445223758, experiment_id='2', last_update_time=1719445223758, lifecycle_stage='active', name='random-forest-hyperopt', tags={}>"
      ]
     },
     "execution_count": 98,
     "metadata": {},
     "output_type": "execute_result"
    }
   ],
   "source": [
    "mlflow.set_experiment(\"random-forest-hyperopt\")"
   ]
  },
  {
   "cell_type": "code",
   "execution_count": 99,
   "metadata": {},
   "outputs": [],
   "source": [
    "from hyperopt import STATUS_OK, Trials, fmin, hp, tpe\n",
    "from hyperopt.pyll import scope\n",
    "from sklearn.ensemble import RandomForestRegressor\n",
    "from sklearn.metrics import mean_squared_error\n",
    "import numpy as np"
   ]
  },
  {
   "cell_type": "code",
   "execution_count": 100,
   "metadata": {},
   "outputs": [],
   "source": [
    "# create train and test data\n",
    "X_train_rf, X_test_rf, y_train_rf, y_test_rf = train_test_split(X, y, train_size=0.7, random_state=42 )"
   ]
  },
  {
   "cell_type": "code",
   "execution_count": 101,
   "metadata": {},
   "outputs": [],
   "source": [
    "# remove commas and turn to numeric\n",
    "y_train_rf = y_train_rf.astype(str).str.replace(',','')\n",
    "y_train_rf = pd.to_numeric(y_train_rf)\n",
    "\n",
    "y_test_rf = y_test_rf.astype(str).str.replace(',','')\n",
    "y_test_rf = pd.to_numeric(y_test_rf)"
   ]
  },
  {
   "cell_type": "code",
   "execution_count": 102,
   "metadata": {},
   "outputs": [],
   "source": [
    "# turn categorical to object\n",
    "X_train_rf[categorical] = X_train_rf[categorical].astype(str)\n",
    "X_test_rf[categorical] = X_test_rf[categorical].astype(str)\n"
   ]
  },
  {
   "cell_type": "code",
   "execution_count": 103,
   "metadata": {},
   "outputs": [],
   "source": [
    "# creating the training and val datasets and one-hot encode with dv\n",
    "\n",
    "dv = DictVectorizer()\n",
    "\n",
    "X_train_dicts = X_train_rf[categorical + numerical].to_dict(orient='records')\n",
    "X_train_rft = dv.fit_transform(train_dicts)\n",
    "\n",
    "val_dicts = X_test_rf[categorical + numerical].to_dict(orient='records')\n",
    "X_val_rft = dv.transform(val_dicts)\n",
    "\n",
    "y_train_rf = y_train_rf.values\n",
    "\n",
    "y_val_rf = y_test_rf.values\n",
    "\n"
   ]
  },
  {
   "cell_type": "code",
   "execution_count": 104,
   "metadata": {},
   "outputs": [],
   "source": [
    "# hyperparameter searching for randomforest\n",
    "\n",
    "\n",
    "def run_optimization(X_train, y_train, X_val, y_val, num_trials: int):\n",
    "\n",
    "    def objective(params):\n",
    "        with mlflow.start_run():\n",
    "            # log the parameters\n",
    "            mlflow.log_params(params)\n",
    "\n",
    "            rf = RandomForestRegressor(**params)\n",
    "            rf.fit(X_train, y_train)\n",
    "            y_pred = rf.predict(X_val)\n",
    "            rmse = mean_squared_error(y_val, y_pred, squared=False)\n",
    "\n",
    "            # log the metric with mlflow\n",
    "            mlflow.log_metric(\"rmse\", rmse)\n",
    "\n",
    "            return {'loss': rmse, 'status': STATUS_OK}\n",
    "\n",
    "    search_space = {\n",
    "        'max_depth': scope.int(hp.quniform('max_depth', 1, 20, 1)),\n",
    "        'n_estimators': scope.int(hp.quniform('n_estimators', 10, 50, 1)),\n",
    "        'min_samples_split': scope.int(hp.quniform('min_samples_split', 2, 10, 1)),\n",
    "        'min_samples_leaf': scope.int(hp.quniform('min_samples_leaf', 1, 4, 1)),\n",
    "        'random_state': 42\n",
    "    }\n",
    "\n",
    "    rstate = np.random.default_rng(42)  # for reproducible results\n",
    "    fmin(\n",
    "        fn=objective,\n",
    "        space=search_space,\n",
    "        algo=tpe.suggest,\n",
    "        max_evals=num_trials,\n",
    "        trials=Trials(),\n",
    "        rstate=rstate\n",
    "    )"
   ]
  },
  {
   "cell_type": "code",
   "execution_count": null,
   "metadata": {},
   "outputs": [],
   "source": [
    "# run the optimization algorithm\n",
    "run_optimization(X_train=X_train_rft, \n",
    "                 y_train=y_train_rf, \n",
    "                 X_val=X_val_rft, \n",
    "                 y_val=y_val_rf, \n",
    "                 num_trials=50)"
   ]
  },
  {
   "cell_type": "code",
   "execution_count": 108,
   "metadata": {},
   "outputs": [],
   "source": [
    "# best parameters logged from the parameter search\n",
    "best_params = {\n",
    "    \"max_depth\" : 12,\n",
    "    \"min_samples_leaf\": 1,\n",
    "    \"min_samples_split\" : 8,\n",
    "    \"n_estimators\" : 39,\n",
    "    \"random_state\" : 42}"
   ]
  },
  {
   "cell_type": "markdown",
   "metadata": {},
   "source": [
    "Training a random forest model on the best parameters"
   ]
  },
  {
   "cell_type": "code",
   "execution_count": 109,
   "metadata": {},
   "outputs": [],
   "source": [
    "# Creating a pipeline with dv and RandomForestRegressor \n",
    "pipeline_rf = make_pipeline(\n",
    "    DictVectorizer(),\n",
    "    RandomForestRegressor(**best_params, n_jobs=-1)\n",
    ")"
   ]
  },
  {
   "cell_type": "code",
   "execution_count": 110,
   "metadata": {},
   "outputs": [],
   "source": [
    "# defining the training function\n",
    "def train_rf(X_train, y_train, X_val, y_val):\n",
    "    with mlflow.start_run():\n",
    "\n",
    "        mlflow.sklearn.autolog()\n",
    "    \n",
    "        pipeline.fit(X_train, y_train)  # use this instead of model.fit\n",
    "\n",
    "        y_pred = pipeline.predict(X_val)\n",
    "\n",
    "        rmse = mean_squared_error(y_val, y_pred, squared=False)\n"
   ]
  },
  {
   "cell_type": "code",
   "execution_count": 113,
   "metadata": {},
   "outputs": [],
   "source": [
    "# train rf model with the best params\n",
    "train_dicts = X_train_rf[categorical + numerical].to_dict(orient='records')\n",
    "val_dicts = X_test_rf[categorical + numerical].to_dict(orient='records')\n",
    "\n",
    "# y_train_rf = y_train_rf.values\n",
    "\n",
    "# y_val_rf = y_test_rf.values"
   ]
  },
  {
   "cell_type": "code",
   "execution_count": 114,
   "metadata": {},
   "outputs": [
    {
     "name": "stderr",
     "output_type": "stream",
     "text": [
      "2024/06/27 02:35:43 WARNING mlflow.utils.autologging_utils: You are using an unsupported version of sklearn. If you encounter errors during autologging, try upgrading / downgrading sklearn to a supported version, or try upgrading MLflow.\n"
     ]
    },
    {
     "name": "stderr",
     "output_type": "stream",
     "text": [
      "2024/06/27 02:35:44 WARNING mlflow.sklearn: Unrecognized dataset type <class 'list'>. Dataset logging skipped.\n",
      "2024/06/27 02:36:00 WARNING mlflow.utils.autologging_utils: MLflow autologging encountered a warning: \"c:\\Users\\skdar\\anaconda3\\envs\\mlops_zc\\lib\\site-packages\\_distutils_hack\\__init__.py:26: UserWarning: Setuptools is replacing distutils.\"\n",
      "2024/06/27 02:36:00 WARNING mlflow.sklearn: Unrecognized dataset type <class 'list'>. Dataset logging skipped.\n",
      "c:\\Users\\skdar\\anaconda3\\envs\\mlops_zc\\lib\\site-packages\\sklearn\\metrics\\_regression.py:492: FutureWarning: 'squared' is deprecated in version 1.4 and will be removed in 1.6. To calculate the root mean squared error, use the function'root_mean_squared_error'.\n",
      "  warnings.warn(\n"
     ]
    }
   ],
   "source": [
    "# training the rf model\n",
    "\n",
    "train_rf(\n",
    "    X_train=train_dicts,\n",
    "    y_train=y_train_rf,\n",
    "    X_val=val_dicts,\n",
    "    y_val=y_val_rf,\n",
    ")"
   ]
  },
  {
   "cell_type": "markdown",
   "metadata": {},
   "source": [
    "* full path to model:\n",
    "`file:///d:/STUDY_RESOURCES_BASE/MLOps/MLOps_Zoomcamp/FROM_CODESPACE/andriod_app_project/mlruns/2/f16f087a2f7b4bf8b1b5ec662cda23d4/artifacts/model`"
   ]
  },
  {
   "cell_type": "markdown",
   "metadata": {},
   "source": [
    "* using the pyfunc inferencing method:\n",
    "\n",
    "``import mlflow``\n",
    "``logged_model = 'runs:/f16f087a2f7b4bf8b1b5ec662cda23d4/model'``\n",
    "\n",
    "* Load model as a PyFuncModel.\n",
    "``loaded_model = mlflow.pyfunc.load_model(logged_model)``\n",
    "\n",
    "* Predict on a Pandas DataFrame.\n",
    "``import pandas as ``pd``\n",
    "``loaded_model.predict(pd.DataFrame(data))``"
   ]
  },
  {
   "cell_type": "code",
   "execution_count": null,
   "metadata": {},
   "outputs": [],
   "source": []
  }
 ],
 "metadata": {
  "kernelspec": {
   "display_name": "Python 3",
   "language": "python",
   "name": "python3"
  },
  "language_info": {
   "codemirror_mode": {
    "name": "ipython",
    "version": 3
   },
   "file_extension": ".py",
   "mimetype": "text/x-python",
   "name": "python",
   "nbconvert_exporter": "python",
   "pygments_lexer": "ipython3",
   "version": "3.9.19"
  }
 },
 "nbformat": 4,
 "nbformat_minor": 2
}
